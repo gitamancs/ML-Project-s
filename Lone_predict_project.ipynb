{
 "cells": [
  {
   "cell_type": "markdown",
   "id": "171d1256",
   "metadata": {},
   "source": [
    "# Bussiness Problem Understanding"
   ]
  },
  {
   "cell_type": "markdown",
   "id": "4dee55e1",
   "metadata": {},
   "source": [
    "Predicting if the company should give loan or not"
   ]
  },
  {
   "cell_type": "markdown",
   "id": "8f19c70b",
   "metadata": {},
   "source": [
    "# Data Understanding"
   ]
  },
  {
   "cell_type": "code",
   "execution_count": 1,
   "id": "90b0aee4",
   "metadata": {},
   "outputs": [],
   "source": [
    "import numpy as np\n",
    "import pandas as pd\n",
    "import matplotlib.pyplot as plt\n",
    "import seaborn as sns\n",
    "\n",
    "import warnings \n",
    "warnings.simplefilter('ignore')"
   ]
  },
  {
   "cell_type": "code",
   "execution_count": 2,
   "id": "8f4b17e3",
   "metadata": {},
   "outputs": [
    {
     "data": {
      "text/html": [
       "<div>\n",
       "<style scoped>\n",
       "    .dataframe tbody tr th:only-of-type {\n",
       "        vertical-align: middle;\n",
       "    }\n",
       "\n",
       "    .dataframe tbody tr th {\n",
       "        vertical-align: top;\n",
       "    }\n",
       "\n",
       "    .dataframe thead th {\n",
       "        text-align: right;\n",
       "    }\n",
       "</style>\n",
       "<table border=\"1\" class=\"dataframe\">\n",
       "  <thead>\n",
       "    <tr style=\"text-align: right;\">\n",
       "      <th></th>\n",
       "      <th>Variable</th>\n",
       "      <th>Description</th>\n",
       "    </tr>\n",
       "  </thead>\n",
       "  <tbody>\n",
       "    <tr>\n",
       "      <th>0</th>\n",
       "      <td>Loan ID</td>\n",
       "      <td>Unique Loan ID</td>\n",
       "    </tr>\n",
       "    <tr>\n",
       "      <th>1</th>\n",
       "      <td>Gender</td>\n",
       "      <td>Male / Female</td>\n",
       "    </tr>\n",
       "    <tr>\n",
       "      <th>2</th>\n",
       "      <td>Married</td>\n",
       "      <td>Applicant married status (Yes/No)</td>\n",
       "    </tr>\n",
       "    <tr>\n",
       "      <th>3</th>\n",
       "      <td>Dependents</td>\n",
       "      <td>Number of dependents on Applicant</td>\n",
       "    </tr>\n",
       "    <tr>\n",
       "      <th>4</th>\n",
       "      <td>Education</td>\n",
       "      <td>Applicant Education(Graduate/Under Graduate)</td>\n",
       "    </tr>\n",
       "    <tr>\n",
       "      <th>5</th>\n",
       "      <td>Self_Employed</td>\n",
       "      <td>Self employed (Yes/No)</td>\n",
       "    </tr>\n",
       "    <tr>\n",
       "      <th>6</th>\n",
       "      <td>Applicantlncome</td>\n",
       "      <td>Applicant personal income</td>\n",
       "    </tr>\n",
       "    <tr>\n",
       "      <th>7</th>\n",
       "      <td>Coapplicantlncome</td>\n",
       "      <td>Coapplicant income togather</td>\n",
       "    </tr>\n",
       "    <tr>\n",
       "      <th>8</th>\n",
       "      <td>LoanAmount</td>\n",
       "      <td>Loan amount in Thousands</td>\n",
       "    </tr>\n",
       "    <tr>\n",
       "      <th>9</th>\n",
       "      <td>Loan Amount Term</td>\n",
       "      <td>Term of loan in Months</td>\n",
       "    </tr>\n",
       "    <tr>\n",
       "      <th>10</th>\n",
       "      <td>Credit_History</td>\n",
       "      <td>Credit history meets guidelines (Good/Bad)</td>\n",
       "    </tr>\n",
       "    <tr>\n",
       "      <th>11</th>\n",
       "      <td>Property_Area</td>\n",
       "      <td>Urban/ Semi-Urban/ Rural</td>\n",
       "    </tr>\n",
       "    <tr>\n",
       "      <th>12</th>\n",
       "      <td>Loan Status</td>\n",
       "      <td>Loan approved status (Yes/No)</td>\n",
       "    </tr>\n",
       "  </tbody>\n",
       "</table>\n",
       "</div>"
      ],
      "text/plain": [
       "             Variable                                   Description\n",
       "0             Loan ID                                Unique Loan ID\n",
       "1              Gender                                 Male / Female\n",
       "2             Married             Applicant married status (Yes/No)\n",
       "3          Dependents             Number of dependents on Applicant\n",
       "4           Education  Applicant Education(Graduate/Under Graduate)\n",
       "5       Self_Employed                        Self employed (Yes/No)\n",
       "6     Applicantlncome                     Applicant personal income\n",
       "7   Coapplicantlncome                   Coapplicant income togather\n",
       "8          LoanAmount                      Loan amount in Thousands\n",
       "9    Loan Amount Term                        Term of loan in Months\n",
       "10     Credit_History    Credit history meets guidelines (Good/Bad)\n",
       "11      Property_Area                      Urban/ Semi-Urban/ Rural\n",
       "12        Loan Status                 Loan approved status (Yes/No)"
      ]
     },
     "execution_count": 2,
     "metadata": {},
     "output_type": "execute_result"
    }
   ],
   "source": [
    "BPU = pd.DataFrame({'Variable':['Loan ID','Gender','Married','Dependents','Education','Self_Employed','Applicantlncome',\n",
    "                                'Coapplicantlncome','LoanAmount','Loan Amount Term','Credit_History',\n",
    "                                'Property_Area','Loan Status'],\n",
    "                    'Description':['Unique Loan ID','Male / Female','Applicant married status (Yes/No)',\n",
    "                                   'Number of dependents on Applicant','Applicant Education(Graduate/Under Graduate)',\n",
    "                                   'Self employed (Yes/No)','Applicant personal income',\n",
    "                                   'Coapplicant income togather','Loan amount in Thousands','Term of loan in Months',\n",
    "                                   'Credit history meets guidelines (Good/Bad)','Urban/ Semi-Urban/ Rural','Loan approved status (Yes/No)'] })\n",
    "BPU"
   ]
  },
  {
   "cell_type": "markdown",
   "id": "944d6704",
   "metadata": {},
   "source": [
    "**Dataset Understanding**"
   ]
  },
  {
   "cell_type": "code",
   "execution_count": 3,
   "id": "c9fa57ba",
   "metadata": {},
   "outputs": [
    {
     "data": {
      "text/html": [
       "<div>\n",
       "<style scoped>\n",
       "    .dataframe tbody tr th:only-of-type {\n",
       "        vertical-align: middle;\n",
       "    }\n",
       "\n",
       "    .dataframe tbody tr th {\n",
       "        vertical-align: top;\n",
       "    }\n",
       "\n",
       "    .dataframe thead th {\n",
       "        text-align: right;\n",
       "    }\n",
       "</style>\n",
       "<table border=\"1\" class=\"dataframe\">\n",
       "  <thead>\n",
       "    <tr style=\"text-align: right;\">\n",
       "      <th></th>\n",
       "      <th>Loan_ID</th>\n",
       "      <th>Gender</th>\n",
       "      <th>Married</th>\n",
       "      <th>Dependents</th>\n",
       "      <th>Education</th>\n",
       "      <th>Self_Employed</th>\n",
       "      <th>ApplicantIncome</th>\n",
       "      <th>CoapplicantIncome</th>\n",
       "      <th>LoanAmount</th>\n",
       "      <th>Loan_Amount_Term</th>\n",
       "      <th>Credit_History</th>\n",
       "      <th>Property_Area</th>\n",
       "      <th>Loan_Status</th>\n",
       "    </tr>\n",
       "  </thead>\n",
       "  <tbody>\n",
       "    <tr>\n",
       "      <th>0</th>\n",
       "      <td>LP001002</td>\n",
       "      <td>Male</td>\n",
       "      <td>No</td>\n",
       "      <td>0</td>\n",
       "      <td>Graduate</td>\n",
       "      <td>No</td>\n",
       "      <td>5849</td>\n",
       "      <td>0.0</td>\n",
       "      <td>NaN</td>\n",
       "      <td>360.0</td>\n",
       "      <td>1.0</td>\n",
       "      <td>Urban</td>\n",
       "      <td>Y</td>\n",
       "    </tr>\n",
       "    <tr>\n",
       "      <th>1</th>\n",
       "      <td>LP001003</td>\n",
       "      <td>Male</td>\n",
       "      <td>Yes</td>\n",
       "      <td>1</td>\n",
       "      <td>Graduate</td>\n",
       "      <td>No</td>\n",
       "      <td>4583</td>\n",
       "      <td>1508.0</td>\n",
       "      <td>128.0</td>\n",
       "      <td>360.0</td>\n",
       "      <td>1.0</td>\n",
       "      <td>Rural</td>\n",
       "      <td>N</td>\n",
       "    </tr>\n",
       "    <tr>\n",
       "      <th>2</th>\n",
       "      <td>LP001005</td>\n",
       "      <td>Male</td>\n",
       "      <td>Yes</td>\n",
       "      <td>0</td>\n",
       "      <td>Graduate</td>\n",
       "      <td>Yes</td>\n",
       "      <td>3000</td>\n",
       "      <td>0.0</td>\n",
       "      <td>66.0</td>\n",
       "      <td>360.0</td>\n",
       "      <td>1.0</td>\n",
       "      <td>Urban</td>\n",
       "      <td>Y</td>\n",
       "    </tr>\n",
       "    <tr>\n",
       "      <th>3</th>\n",
       "      <td>LP001006</td>\n",
       "      <td>Male</td>\n",
       "      <td>Yes</td>\n",
       "      <td>0</td>\n",
       "      <td>Not Graduate</td>\n",
       "      <td>No</td>\n",
       "      <td>2583</td>\n",
       "      <td>2358.0</td>\n",
       "      <td>120.0</td>\n",
       "      <td>360.0</td>\n",
       "      <td>1.0</td>\n",
       "      <td>Urban</td>\n",
       "      <td>Y</td>\n",
       "    </tr>\n",
       "    <tr>\n",
       "      <th>4</th>\n",
       "      <td>LP001008</td>\n",
       "      <td>Male</td>\n",
       "      <td>No</td>\n",
       "      <td>0</td>\n",
       "      <td>Graduate</td>\n",
       "      <td>No</td>\n",
       "      <td>6000</td>\n",
       "      <td>0.0</td>\n",
       "      <td>141.0</td>\n",
       "      <td>360.0</td>\n",
       "      <td>1.0</td>\n",
       "      <td>Urban</td>\n",
       "      <td>Y</td>\n",
       "    </tr>\n",
       "  </tbody>\n",
       "</table>\n",
       "</div>"
      ],
      "text/plain": [
       "    Loan_ID Gender Married Dependents     Education Self_Employed  \\\n",
       "0  LP001002   Male      No          0      Graduate            No   \n",
       "1  LP001003   Male     Yes          1      Graduate            No   \n",
       "2  LP001005   Male     Yes          0      Graduate           Yes   \n",
       "3  LP001006   Male     Yes          0  Not Graduate            No   \n",
       "4  LP001008   Male      No          0      Graduate            No   \n",
       "\n",
       "   ApplicantIncome  CoapplicantIncome  LoanAmount  Loan_Amount_Term  \\\n",
       "0             5849                0.0         NaN             360.0   \n",
       "1             4583             1508.0       128.0             360.0   \n",
       "2             3000                0.0        66.0             360.0   \n",
       "3             2583             2358.0       120.0             360.0   \n",
       "4             6000                0.0       141.0             360.0   \n",
       "\n",
       "   Credit_History Property_Area Loan_Status  \n",
       "0             1.0         Urban           Y  \n",
       "1             1.0         Rural           N  \n",
       "2             1.0         Urban           Y  \n",
       "3             1.0         Urban           Y  \n",
       "4             1.0         Urban           Y  "
      ]
     },
     "execution_count": 3,
     "metadata": {},
     "output_type": "execute_result"
    }
   ],
   "source": [
    "df = pd.read_csv(\"LoanData.csv\")\n",
    "df.head()"
   ]
  },
  {
   "cell_type": "code",
   "execution_count": 4,
   "id": "8ba5e36e",
   "metadata": {},
   "outputs": [
    {
     "name": "stdout",
     "output_type": "stream",
     "text": [
      "<class 'pandas.core.frame.DataFrame'>\n",
      "RangeIndex: 614 entries, 0 to 613\n",
      "Data columns (total 13 columns):\n",
      " #   Column             Non-Null Count  Dtype  \n",
      "---  ------             --------------  -----  \n",
      " 0   Loan_ID            614 non-null    object \n",
      " 1   Gender             601 non-null    object \n",
      " 2   Married            611 non-null    object \n",
      " 3   Dependents         599 non-null    object \n",
      " 4   Education          614 non-null    object \n",
      " 5   Self_Employed      582 non-null    object \n",
      " 6   ApplicantIncome    614 non-null    int64  \n",
      " 7   CoapplicantIncome  614 non-null    float64\n",
      " 8   LoanAmount         592 non-null    float64\n",
      " 9   Loan_Amount_Term   600 non-null    float64\n",
      " 10  Credit_History     564 non-null    float64\n",
      " 11  Property_Area      614 non-null    object \n",
      " 12  Loan_Status        614 non-null    object \n",
      "dtypes: float64(4), int64(1), object(8)\n",
      "memory usage: 62.5+ KB\n"
     ]
    }
   ],
   "source": [
    "df.info()"
   ]
  },
  {
   "cell_type": "markdown",
   "id": "2b8e268d",
   "metadata": {},
   "source": [
    "**Here we can see there a 3 data types**\n",
    "- object : Loan_ID\tGender, Married, Dependents, Education, Self_Employed, Property_Area, Loan_Status\n",
    "- int    : ApplicantIncome  \n",
    "- float  : CoapplicantIncome, LoanAmount, Loan_Amount_Term, Credit_History\n",
    "\n",
    "Note : Here we can observe some columns required change in data type and one coloum we can creat of total income"
   ]
  },
  {
   "cell_type": "code",
   "execution_count": 5,
   "id": "336efd09",
   "metadata": {},
   "outputs": [
    {
     "data": {
      "text/plain": [
       "array(['Y', 'N'], dtype=object)"
      ]
     },
     "execution_count": 5,
     "metadata": {},
     "output_type": "execute_result"
    }
   ],
   "source": [
    "df['Loan_Status'].unique()"
   ]
  },
  {
   "cell_type": "code",
   "execution_count": 6,
   "id": "2b52c0be",
   "metadata": {},
   "outputs": [
    {
     "data": {
      "image/png": "[encoded data removed]",
      "text/plain": [
       "<Figure size 640x480 with 1 Axes>"
      ]
     },
     "metadata": {},
     "output_type": "display_data"
    }
   ],
   "source": [
    "sns.countplot(data=df,x='Loan_Status')\n",
    "plt.show()"
   ]
  },
  {
   "cell_type": "code",
   "execution_count": 7,
   "id": "df10141a",
   "metadata": {},
   "outputs": [],
   "source": [
    "df['Credit_History'] = df['Credit_History'].map({1.0 : 'good', 0.0 : 'bad'})"
   ]
  },
  {
   "cell_type": "code",
   "execution_count": 8,
   "id": "e49a3fa5",
   "metadata": {},
   "outputs": [],
   "source": [
    "continous = df[['ApplicantIncome','CoapplicantIncome','LoanAmount']]\n",
    "descrit_count = df[['Dependents','Loan_Amount_Term']]\n",
    "descrit_catagorical = df[['Gender','Married', 'Education','Self_Employed','Property_Area','Loan_Status','Credit_History']]"
   ]
  },
  {
   "cell_type": "code",
   "execution_count": 9,
   "id": "0eaf1d29",
   "metadata": {
    "scrolled": true
   },
   "outputs": [],
   "source": [
    "# pd.set_option('display.max_columns', None)\n",
    "#  pd.set_option('display.max_rows', None)"
   ]
  },
  {
   "cell_type": "markdown",
   "id": "c77dc50b",
   "metadata": {},
   "source": [
    "**EDA (Data Exploratery Analysis)**"
   ]
  },
  {
   "cell_type": "code",
   "execution_count": 10,
   "id": "0bf69670",
   "metadata": {},
   "outputs": [
    {
     "name": "stdout",
     "output_type": "stream",
     "text": [
      "Dependents Dependents\n",
      "0     345\n",
      "1     102\n",
      "2     101\n",
      "3+     51\n",
      "Name: count, dtype: int64\n",
      "\n",
      "Loan_Amount_Term Loan_Amount_Term\n",
      "360.0    512\n",
      "180.0     44\n",
      "480.0     15\n",
      "300.0     13\n",
      "240.0      4\n",
      "84.0       4\n",
      "120.0      3\n",
      "60.0       2\n",
      "36.0       2\n",
      "12.0       1\n",
      "Name: count, dtype: int64\n",
      "\n",
      "Credit_History Credit_History\n",
      "good    475\n",
      "bad      89\n",
      "Name: count, dtype: int64\n",
      "\n",
      "Gender Gender\n",
      "Male      489\n",
      "Female    112\n",
      "Name: count, dtype: int64\n",
      "\n",
      "Married Married\n",
      "Yes    398\n",
      "No     213\n",
      "Name: count, dtype: int64\n",
      "\n",
      "Education Education\n",
      "Graduate        480\n",
      "Not Graduate    134\n",
      "Name: count, dtype: int64\n",
      "\n",
      "Self_Employed Self_Employed\n",
      "No     500\n",
      "Yes     82\n",
      "Name: count, dtype: int64\n",
      "\n",
      "Property_Area Property_Area\n",
      "Semiurban    233\n",
      "Urban        202\n",
      "Rural        179\n",
      "Name: count, dtype: int64\n",
      "\n",
      "Loan_Status Loan_Status\n",
      "Y    422\n",
      "N    192\n",
      "Name: count, dtype: int64\n"
     ]
    }
   ],
   "source": [
    "print('Dependents',df['Dependents'].value_counts())\n",
    "print()\n",
    "print('Loan_Amount_Term',df['Loan_Amount_Term'].value_counts())\n",
    "print()\n",
    "print('Credit_History',df['Credit_History'].value_counts())\n",
    "print()\n",
    "print('Gender',df['Gender'].value_counts())\n",
    "print()\n",
    "print('Married',df['Married'].value_counts())\n",
    "print()\n",
    "print('Education',df['Education'].value_counts())\n",
    "print()\n",
    "print('Self_Employed',df['Self_Employed'].value_counts())\n",
    "print()\n",
    "print('Property_Area',df['Property_Area'].value_counts())\n",
    "print()\n",
    "print('Loan_Status',df['Loan_Status'].value_counts())"
   ]
  },
  {
   "cell_type": "code",
   "execution_count": 11,
   "id": "7cbcf942",
   "metadata": {},
   "outputs": [
    {
     "name": "stdout",
     "output_type": "stream",
     "text": [
      "Dependents ['0' '1' '2' '3+' nan]\n",
      "\n",
      "Loan_Amount_Term [360. 120. 240.  nan 180.  60. 300. 480.  36.  84.  12.]\n",
      "\n",
      "Credit_History ['good' 'bad' nan]\n",
      "\n",
      "Gender ['Male' 'Female' nan]\n",
      "\n",
      "Married ['No' 'Yes' nan]\n",
      "\n",
      "Education ['Graduate' 'Not Graduate']\n",
      "\n",
      "Self_Employed ['No' 'Yes' nan]\n",
      "\n",
      "Property_Area ['Urban' 'Rural' 'Semiurban']\n",
      "\n",
      "Loan_Status ['Y' 'N']\n"
     ]
    }
   ],
   "source": [
    "print('Dependents',df['Dependents'].unique())\n",
    "print()\n",
    "print('Loan_Amount_Term',df['Loan_Amount_Term'].unique())\n",
    "print()\n",
    "print('Credit_History',df['Credit_History'].unique())\n",
    "print()\n",
    "print('Gender',df['Gender'].unique())\n",
    "print()\n",
    "print('Married',df['Married'].unique())\n",
    "print()\n",
    "print('Education',df['Education'].unique())\n",
    "print()\n",
    "print('Self_Employed',df['Self_Employed'].unique())\n",
    "print()\n",
    "print('Property_Area',df['Property_Area'].unique())\n",
    "print()\n",
    "print('Loan_Status',df['Loan_Status'].unique())"
   ]
  },
  {
   "cell_type": "markdown",
   "id": "7dd35baf",
   "metadata": {},
   "source": [
    "   - **Univariant Analysis**\n",
    "   \n",
    "         1. For Continous Features"
   ]
  },
  {
   "cell_type": "code",
   "execution_count": 12,
   "id": "de606d01",
   "metadata": {},
   "outputs": [
    {
     "data": {
      "text/html": [
       "<div>\n",
       "<style scoped>\n",
       "    .dataframe tbody tr th:only-of-type {\n",
       "        vertical-align: middle;\n",
       "    }\n",
       "\n",
       "    .dataframe tbody tr th {\n",
       "        vertical-align: top;\n",
       "    }\n",
       "\n",
       "    .dataframe thead th {\n",
       "        text-align: right;\n",
       "    }\n",
       "</style>\n",
       "<table border=\"1\" class=\"dataframe\">\n",
       "  <thead>\n",
       "    <tr style=\"text-align: right;\">\n",
       "      <th></th>\n",
       "      <th>count</th>\n",
       "      <th>mean</th>\n",
       "      <th>std</th>\n",
       "      <th>min</th>\n",
       "      <th>25%</th>\n",
       "      <th>50%</th>\n",
       "      <th>75%</th>\n",
       "      <th>max</th>\n",
       "    </tr>\n",
       "  </thead>\n",
       "  <tbody>\n",
       "    <tr>\n",
       "      <th>ApplicantIncome</th>\n",
       "      <td>614.0</td>\n",
       "      <td>5403.459283</td>\n",
       "      <td>6109.041673</td>\n",
       "      <td>150.0</td>\n",
       "      <td>2877.5</td>\n",
       "      <td>3812.5</td>\n",
       "      <td>5795.00</td>\n",
       "      <td>81000.0</td>\n",
       "    </tr>\n",
       "    <tr>\n",
       "      <th>CoapplicantIncome</th>\n",
       "      <td>614.0</td>\n",
       "      <td>1621.245798</td>\n",
       "      <td>2926.248369</td>\n",
       "      <td>0.0</td>\n",
       "      <td>0.0</td>\n",
       "      <td>1188.5</td>\n",
       "      <td>2297.25</td>\n",
       "      <td>41667.0</td>\n",
       "    </tr>\n",
       "    <tr>\n",
       "      <th>LoanAmount</th>\n",
       "      <td>592.0</td>\n",
       "      <td>146.412162</td>\n",
       "      <td>85.587325</td>\n",
       "      <td>9.0</td>\n",
       "      <td>100.0</td>\n",
       "      <td>128.0</td>\n",
       "      <td>168.00</td>\n",
       "      <td>700.0</td>\n",
       "    </tr>\n",
       "  </tbody>\n",
       "</table>\n",
       "</div>"
      ],
      "text/plain": [
       "                   count         mean          std    min     25%     50%  \\\n",
       "ApplicantIncome    614.0  5403.459283  6109.041673  150.0  2877.5  3812.5   \n",
       "CoapplicantIncome  614.0  1621.245798  2926.248369    0.0     0.0  1188.5   \n",
       "LoanAmount         592.0   146.412162    85.587325    9.0   100.0   128.0   \n",
       "\n",
       "                       75%      max  \n",
       "ApplicantIncome    5795.00  81000.0  \n",
       "CoapplicantIncome  2297.25  41667.0  \n",
       "LoanAmount          168.00    700.0  "
      ]
     },
     "execution_count": 12,
     "metadata": {},
     "output_type": "execute_result"
    }
   ],
   "source": [
    "continous.describe().transpose()"
   ]
  },
  {
   "cell_type": "markdown",
   "id": "81df031a",
   "metadata": {},
   "source": [
    "observation : \n",
    "    \n",
    "    - mean is greater then median in all the columns which means it's right skew data\n",
    "    - there is skewness so, we have to noemalize it also\n",
    "    - Here coapplicant minimum value is zero , so while normalizing log may not be the best fit\n",
    "            "
   ]
  },
  {
   "cell_type": "code",
   "execution_count": 13,
   "id": "60a22957",
   "metadata": {},
   "outputs": [
    {
     "data": {
      "text/plain": [
       "ApplicantIncome      6.539513\n",
       "CoapplicantIncome    7.491531\n",
       "LoanAmount           2.677552\n",
       "dtype: float64"
      ]
     },
     "execution_count": 13,
     "metadata": {},
     "output_type": "execute_result"
    }
   ],
   "source": [
    "continous.skew()"
   ]
  },
  {
   "cell_type": "code",
   "execution_count": 14,
   "id": "d8a824ff",
   "metadata": {},
   "outputs": [
    {
     "data": {
      "image/png": "[encoded data removed]",
      "text/plain": [
       "<Figure size 1000x700 with 3 Axes>"
      ]
     },
     "metadata": {},
     "output_type": "display_data"
    }
   ],
   "source": [
    "plt.figure(figsize=(10,7))\n",
    "i = 1\n",
    "for c_col in continous.columns :\n",
    "    plt.subplot(2,2,i)\n",
    "    sns.histplot(x = df[c_col],kde=True)\n",
    "    plt.tight_layout\n",
    "    i += 1\n",
    "    \n",
    "    \n",
    "plt.show()"
   ]
  },
  {
   "cell_type": "code",
   "execution_count": 15,
   "id": "8733add9",
   "metadata": {},
   "outputs": [
    {
     "data": {
      "image/png": "[encoded data removed]",
      "text/plain": [
       "<Figure size 750x750 with 12 Axes>"
      ]
     },
     "metadata": {},
     "output_type": "display_data"
    }
   ],
   "source": [
    "sns.pairplot(continous)\n",
    "plt.show()"
   ]
  },
  {
   "cell_type": "code",
   "execution_count": 16,
   "id": "d8096aae",
   "metadata": {},
   "outputs": [
    {
     "data": {
      "image/png": "[encoded data removed]",
      "text/plain": [
       "<Figure size 640x480 with 2 Axes>"
      ]
     },
     "metadata": {},
     "output_type": "display_data"
    }
   ],
   "source": [
    "sns.heatmap(continous.corr(),annot=True)\n",
    "plt.show()"
   ]
  },
  {
   "cell_type": "code",
   "execution_count": null,
   "id": "21f9df8a",
   "metadata": {},
   "outputs": [],
   "source": []
  },
  {
   "cell_type": "code",
   "execution_count": 17,
   "id": "433c3c68",
   "metadata": {},
   "outputs": [
    {
     "data": {
      "image/png": "[encoded data removed]",
      "text/plain": [
       "<Figure size 1500x1000 with 3 Axes>"
      ]
     },
     "metadata": {},
     "output_type": "display_data"
    }
   ],
   "source": [
    "# checking outlires presence\n",
    "\n",
    "plt.figure(figsize=(15,10))\n",
    "i = 1 \n",
    "for outlires in continous.columns:\n",
    "    plt.subplot(2,3,i)\n",
    "    sns.boxplot(df[outlires])\n",
    "    plt.xlabel(outlires)\n",
    "    i = i+1\n",
    "plt.show()"
   ]
  },
  {
   "cell_type": "markdown",
   "id": "05bf2b80",
   "metadata": {},
   "source": [
    "There are outlires but non of them are irrelivent"
   ]
  },
  {
   "cell_type": "markdown",
   "id": "ef7350da",
   "metadata": {},
   "source": [
    "- 2. For Descrit Catagorical"
   ]
  },
  {
   "cell_type": "code",
   "execution_count": 18,
   "id": "b84d666d",
   "metadata": {},
   "outputs": [
    {
     "data": {
      "text/html": [
       "<div>\n",
       "<style scoped>\n",
       "    .dataframe tbody tr th:only-of-type {\n",
       "        vertical-align: middle;\n",
       "    }\n",
       "\n",
       "    .dataframe tbody tr th {\n",
       "        vertical-align: top;\n",
       "    }\n",
       "\n",
       "    .dataframe thead th {\n",
       "        text-align: right;\n",
       "    }\n",
       "</style>\n",
       "<table border=\"1\" class=\"dataframe\">\n",
       "  <thead>\n",
       "    <tr style=\"text-align: right;\">\n",
       "      <th></th>\n",
       "      <th>Gender</th>\n",
       "      <th>Married</th>\n",
       "      <th>Education</th>\n",
       "      <th>Self_Employed</th>\n",
       "      <th>Property_Area</th>\n",
       "      <th>Loan_Status</th>\n",
       "      <th>Credit_History</th>\n",
       "    </tr>\n",
       "  </thead>\n",
       "  <tbody>\n",
       "    <tr>\n",
       "      <th>count</th>\n",
       "      <td>601</td>\n",
       "      <td>611</td>\n",
       "      <td>614</td>\n",
       "      <td>582</td>\n",
       "      <td>614</td>\n",
       "      <td>614</td>\n",
       "      <td>564</td>\n",
       "    </tr>\n",
       "    <tr>\n",
       "      <th>unique</th>\n",
       "      <td>2</td>\n",
       "      <td>2</td>\n",
       "      <td>2</td>\n",
       "      <td>2</td>\n",
       "      <td>3</td>\n",
       "      <td>2</td>\n",
       "      <td>2</td>\n",
       "    </tr>\n",
       "    <tr>\n",
       "      <th>top</th>\n",
       "      <td>Male</td>\n",
       "      <td>Yes</td>\n",
       "      <td>Graduate</td>\n",
       "      <td>No</td>\n",
       "      <td>Semiurban</td>\n",
       "      <td>Y</td>\n",
       "      <td>good</td>\n",
       "    </tr>\n",
       "    <tr>\n",
       "      <th>freq</th>\n",
       "      <td>489</td>\n",
       "      <td>398</td>\n",
       "      <td>480</td>\n",
       "      <td>500</td>\n",
       "      <td>233</td>\n",
       "      <td>422</td>\n",
       "      <td>475</td>\n",
       "    </tr>\n",
       "  </tbody>\n",
       "</table>\n",
       "</div>"
      ],
      "text/plain": [
       "       Gender Married Education Self_Employed Property_Area Loan_Status  \\\n",
       "count     601     611       614           582           614         614   \n",
       "unique      2       2         2             2             3           2   \n",
       "top      Male     Yes  Graduate            No     Semiurban           Y   \n",
       "freq      489     398       480           500           233         422   \n",
       "\n",
       "       Credit_History  \n",
       "count             564  \n",
       "unique              2  \n",
       "top              good  \n",
       "freq              475  "
      ]
     },
     "execution_count": 18,
     "metadata": {},
     "output_type": "execute_result"
    }
   ],
   "source": [
    "descrit_catagorical.describe()"
   ]
  },
  {
   "cell_type": "code",
   "execution_count": 19,
   "id": "50a172f0",
   "metadata": {},
   "outputs": [
    {
     "data": {
      "image/png": "[encoded data removed]",
      "text/plain": [
       "<Figure size 2000x1000 with 7 Axes>"
      ]
     },
     "metadata": {},
     "output_type": "display_data"
    }
   ],
   "source": [
    "plt.figure(figsize=(20,10))\n",
    "j = 1\n",
    "for d_cat_col in descrit_catagorical.columns :\n",
    "    plt.subplot(2,4,j)\n",
    "    sns.countplot(x = df[d_cat_col] ) \n",
    "    j += 1\n",
    "plt.show()"
   ]
  },
  {
   "cell_type": "code",
   "execution_count": 20,
   "id": "3a96319a",
   "metadata": {},
   "outputs": [
    {
     "data": {
      "text/plain": [
       "Loan_ID               0\n",
       "Gender               13\n",
       "Married               3\n",
       "Dependents           15\n",
       "Education             0\n",
       "Self_Employed        32\n",
       "ApplicantIncome       0\n",
       "CoapplicantIncome     0\n",
       "LoanAmount           22\n",
       "Loan_Amount_Term     14\n",
       "Credit_History       50\n",
       "Property_Area         0\n",
       "Loan_Status           0\n",
       "dtype: int64"
      ]
     },
     "execution_count": 20,
     "metadata": {},
     "output_type": "execute_result"
    }
   ],
   "source": [
    "df.isnull().sum()"
   ]
  },
  {
   "cell_type": "code",
   "execution_count": 21,
   "id": "62132a52",
   "metadata": {
    "scrolled": false
   },
   "outputs": [
    {
     "data": {
      "text/plain": [
       "134"
      ]
     },
     "execution_count": 21,
     "metadata": {},
     "output_type": "execute_result"
    }
   ],
   "source": [
    "null_values = df.isnull().any(axis=1)\n",
    "data_with_null_values = df[null_values]\n",
    "len(data_with_null_values)"
   ]
  },
  {
   "cell_type": "markdown",
   "id": "83758e6e",
   "metadata": {},
   "source": [
    "**Observation**"
   ]
  },
  {
   "cell_type": "markdown",
   "id": "f32a54f3",
   "metadata": {},
   "source": [
    "1. There a 3 data types :\n",
    "    - object : Loan_ID Gender, Married, Dependents, Education, Self_Employed, Property_Area, Loan_Status\n",
    "    - int : ApplicantIncome\n",
    "    - float : CoapplicantIncome, LoanAmount, Loan_Amount_Term, Credit_History  \n",
    "    - some columns required change in data type and one coloum we can creat of total income\n",
    "            \n",
    "            \n",
    "2. There are 3 types of column Continous , Descrit_count and Descrit_catagorical.\n",
    "\n",
    "3. In our dependent variable is having only 2 catagories yes and no.\n",
    "\n",
    "4. There are several missing and dirty data in various columns.\n",
    "\n",
    "5. Mean is greater then median in all the columns which means it's right skew data.\n",
    "\n",
    "6. There is skewness so, we have to noemalize it also.\n",
    "\n",
    "7. Coapplicant minimum value is zero , so while normalizing log may not be the best fit.\n",
    "\n",
    "8. Total 134 missing values are there in dataset."
   ]
  },
  {
   "cell_type": "markdown",
   "id": "98a540d4",
   "metadata": {},
   "source": [
    "# Data Cleaning"
   ]
  },
  {
   "cell_type": "code",
   "execution_count": 22,
   "id": "42717734",
   "metadata": {},
   "outputs": [],
   "source": [
    "df.drop('Loan_ID',axis=1,inplace=True)  # not require while modeling"
   ]
  },
  {
   "cell_type": "code",
   "execution_count": 23,
   "id": "110772b5",
   "metadata": {},
   "outputs": [
    {
     "data": {
      "text/plain": [
       "Gender               2.117264\n",
       "Married              0.488599\n",
       "Dependents           2.442997\n",
       "Education            0.000000\n",
       "Self_Employed        5.211726\n",
       "ApplicantIncome      0.000000\n",
       "CoapplicantIncome    0.000000\n",
       "LoanAmount           3.583062\n",
       "Loan_Amount_Term     2.280130\n",
       "Credit_History       8.143322\n",
       "Property_Area        0.000000\n",
       "Loan_Status          0.000000\n",
       "dtype: float64"
      ]
     },
     "execution_count": 23,
     "metadata": {},
     "output_type": "execute_result"
    }
   ],
   "source": [
    "# percentage of data missing from all the column in intire dataset\n",
    "df.isnull().sum()*100/len(df)"
   ]
  },
  {
   "cell_type": "code",
   "execution_count": 24,
   "id": "6cbc4c59",
   "metadata": {},
   "outputs": [],
   "source": [
    "df['Income'] = df['ApplicantIncome'] + df['CoapplicantIncome'].astype('int')\n",
    "\n",
    "# Note : loan_Amount is depend on both applicant and coapplicant income "
   ]
  },
  {
   "cell_type": "code",
   "execution_count": 25,
   "id": "a41b90bf",
   "metadata": {},
   "outputs": [],
   "source": [
    "df['Gender'].fillna('Male',inplace=True)                          # Replaced with mode"
   ]
  },
  {
   "cell_type": "code",
   "execution_count": 26,
   "id": "a285a296",
   "metadata": {},
   "outputs": [],
   "source": [
    "df['Married'].fillna('Yes',inplace=True)                          # Replaced with mode"
   ]
  },
  {
   "cell_type": "code",
   "execution_count": 27,
   "id": "b60cb34a",
   "metadata": {},
   "outputs": [],
   "source": [
    "df['Dependents'].fillna(0,inplace=True)                         # Replaced with mode\n",
    "df['Dependents'].replace({'3+':3},inplace=True)                 # Treating Dirty data"
   ]
  },
  {
   "cell_type": "code",
   "execution_count": 28,
   "id": "b801dd9d",
   "metadata": {},
   "outputs": [],
   "source": [
    "df['Self_Employed'].fillna('No',inplace=True)                     # Replaced with mode"
   ]
  },
  {
   "cell_type": "code",
   "execution_count": 29,
   "id": "4bbf3bc2",
   "metadata": {},
   "outputs": [],
   "source": [
    "#df['LoanAmount'].dropna(inplace=True)\n",
    "#df['Loan_Amount_Term'].dropna(inplace=True)\n",
    "#df['Credit_History'].dropna(inplace=True)\n",
    "\n",
    "df.dropna(subset=['LoanAmount','Loan_Amount_Term','Credit_History'],inplace =True)"
   ]
  },
  {
   "cell_type": "markdown",
   "id": "596d54e8",
   "metadata": {},
   "source": [
    "Note : For the null values in 'Lone_Amount','Loan_Amount_Term' and 'Credit_History' are not treatable and also there is no Data \n",
    "avilable for any correction so we have to drop it.\n",
    "\n",
    "\n",
    "\n"
   ]
  },
  {
   "cell_type": "code",
   "execution_count": 30,
   "id": "0a1c8599",
   "metadata": {},
   "outputs": [
    {
     "data": {
      "text/plain": [
       "Gender               0\n",
       "Married              0\n",
       "Dependents           0\n",
       "Education            0\n",
       "Self_Employed        0\n",
       "ApplicantIncome      0\n",
       "CoapplicantIncome    0\n",
       "LoanAmount           0\n",
       "Loan_Amount_Term     0\n",
       "Credit_History       0\n",
       "Property_Area        0\n",
       "Loan_Status          0\n",
       "Income               0\n",
       "dtype: int64"
      ]
     },
     "execution_count": 30,
     "metadata": {},
     "output_type": "execute_result"
    }
   ],
   "source": [
    "df.isnull().sum()"
   ]
  },
  {
   "cell_type": "code",
   "execution_count": 31,
   "id": "6eb57148",
   "metadata": {},
   "outputs": [
    {
     "data": {
      "text/html": [
       "<div>\n",
       "<style scoped>\n",
       "    .dataframe tbody tr th:only-of-type {\n",
       "        vertical-align: middle;\n",
       "    }\n",
       "\n",
       "    .dataframe tbody tr th {\n",
       "        vertical-align: top;\n",
       "    }\n",
       "\n",
       "    .dataframe thead th {\n",
       "        text-align: right;\n",
       "    }\n",
       "</style>\n",
       "<table border=\"1\" class=\"dataframe\">\n",
       "  <thead>\n",
       "    <tr style=\"text-align: right;\">\n",
       "      <th></th>\n",
       "      <th>Gender</th>\n",
       "      <th>Married</th>\n",
       "      <th>Dependents</th>\n",
       "      <th>Education</th>\n",
       "      <th>Self_Employed</th>\n",
       "      <th>ApplicantIncome</th>\n",
       "      <th>CoapplicantIncome</th>\n",
       "      <th>LoanAmount</th>\n",
       "      <th>Loan_Amount_Term</th>\n",
       "      <th>Credit_History</th>\n",
       "      <th>Property_Area</th>\n",
       "      <th>Loan_Status</th>\n",
       "      <th>Income</th>\n",
       "    </tr>\n",
       "  </thead>\n",
       "  <tbody>\n",
       "    <tr>\n",
       "      <th>1</th>\n",
       "      <td>Male</td>\n",
       "      <td>Yes</td>\n",
       "      <td>1</td>\n",
       "      <td>Graduate</td>\n",
       "      <td>No</td>\n",
       "      <td>4583</td>\n",
       "      <td>1508.0</td>\n",
       "      <td>128.0</td>\n",
       "      <td>360.0</td>\n",
       "      <td>good</td>\n",
       "      <td>Rural</td>\n",
       "      <td>N</td>\n",
       "      <td>6091</td>\n",
       "    </tr>\n",
       "    <tr>\n",
       "      <th>2</th>\n",
       "      <td>Male</td>\n",
       "      <td>Yes</td>\n",
       "      <td>0</td>\n",
       "      <td>Graduate</td>\n",
       "      <td>Yes</td>\n",
       "      <td>3000</td>\n",
       "      <td>0.0</td>\n",
       "      <td>66.0</td>\n",
       "      <td>360.0</td>\n",
       "      <td>good</td>\n",
       "      <td>Urban</td>\n",
       "      <td>Y</td>\n",
       "      <td>3000</td>\n",
       "    </tr>\n",
       "    <tr>\n",
       "      <th>3</th>\n",
       "      <td>Male</td>\n",
       "      <td>Yes</td>\n",
       "      <td>0</td>\n",
       "      <td>Not Graduate</td>\n",
       "      <td>No</td>\n",
       "      <td>2583</td>\n",
       "      <td>2358.0</td>\n",
       "      <td>120.0</td>\n",
       "      <td>360.0</td>\n",
       "      <td>good</td>\n",
       "      <td>Urban</td>\n",
       "      <td>Y</td>\n",
       "      <td>4941</td>\n",
       "    </tr>\n",
       "    <tr>\n",
       "      <th>4</th>\n",
       "      <td>Male</td>\n",
       "      <td>No</td>\n",
       "      <td>0</td>\n",
       "      <td>Graduate</td>\n",
       "      <td>No</td>\n",
       "      <td>6000</td>\n",
       "      <td>0.0</td>\n",
       "      <td>141.0</td>\n",
       "      <td>360.0</td>\n",
       "      <td>good</td>\n",
       "      <td>Urban</td>\n",
       "      <td>Y</td>\n",
       "      <td>6000</td>\n",
       "    </tr>\n",
       "    <tr>\n",
       "      <th>5</th>\n",
       "      <td>Male</td>\n",
       "      <td>Yes</td>\n",
       "      <td>2</td>\n",
       "      <td>Graduate</td>\n",
       "      <td>Yes</td>\n",
       "      <td>5417</td>\n",
       "      <td>4196.0</td>\n",
       "      <td>267.0</td>\n",
       "      <td>360.0</td>\n",
       "      <td>good</td>\n",
       "      <td>Urban</td>\n",
       "      <td>Y</td>\n",
       "      <td>9613</td>\n",
       "    </tr>\n",
       "  </tbody>\n",
       "</table>\n",
       "</div>"
      ],
      "text/plain": [
       "  Gender Married Dependents     Education Self_Employed  ApplicantIncome  \\\n",
       "1   Male     Yes          1      Graduate            No             4583   \n",
       "2   Male     Yes          0      Graduate           Yes             3000   \n",
       "3   Male     Yes          0  Not Graduate            No             2583   \n",
       "4   Male      No          0      Graduate            No             6000   \n",
       "5   Male     Yes          2      Graduate           Yes             5417   \n",
       "\n",
       "   CoapplicantIncome  LoanAmount  Loan_Amount_Term Credit_History  \\\n",
       "1             1508.0       128.0             360.0           good   \n",
       "2                0.0        66.0             360.0           good   \n",
       "3             2358.0       120.0             360.0           good   \n",
       "4                0.0       141.0             360.0           good   \n",
       "5             4196.0       267.0             360.0           good   \n",
       "\n",
       "  Property_Area Loan_Status  Income  \n",
       "1         Rural           N    6091  \n",
       "2         Urban           Y    3000  \n",
       "3         Urban           Y    4941  \n",
       "4         Urban           Y    6000  \n",
       "5         Urban           Y    9613  "
      ]
     },
     "execution_count": 31,
     "metadata": {},
     "output_type": "execute_result"
    }
   ],
   "source": [
    "df.head()"
   ]
  },
  {
   "cell_type": "markdown",
   "id": "39e4271f",
   "metadata": {},
   "source": [
    "**Encoding**"
   ]
  },
  {
   "cell_type": "code",
   "execution_count": 32,
   "id": "c5f6c1cb",
   "metadata": {},
   "outputs": [],
   "source": [
    "df['Gender'] = df['Gender'].map({'Male':1 , 'Female':0})\n",
    "df['Married'] = df['Married'].map({ 'Yes':1, 'No':0})\n",
    "df['Education'] = df['Education'].map({'Graduate':0, 'Not Graduate':1})\n",
    "df['Self_Employed'] = df['Self_Employed'].map({ 'Yes':1, 'No':0})\n",
    "df['Property_Area'] = df[ 'Property_Area'].map({'Rural':0, 'Semiurban':1,'Urban':2})\n",
    "df['Credit_History'] = df['Credit_History'].map({'good':1, 'bad':0})\n",
    "df['Loan_Status'] = df['Loan_Status'].map({'Y':1, 'N':0})"
   ]
  },
  {
   "cell_type": "markdown",
   "id": "70e2f8b1",
   "metadata": {},
   "source": [
    "**Transform**"
   ]
  },
  {
   "cell_type": "code",
   "execution_count": 33,
   "id": "65704304",
   "metadata": {},
   "outputs": [],
   "source": [
    "df['CoapplicantIncome'] = df['CoapplicantIncome'].astype('int')\n",
    "df['LoanAmount'] = df['LoanAmount'].astype('int')\n",
    "df['Loan_Amount_Term'] = df['Loan_Amount_Term'].astype('int')\n",
    "df['Dependents'] = df['Dependents'].astype('int')\n",
    "df['Loan_Amount_Term'] = df['Loan_Amount_Term']/12"
   ]
  },
  {
   "cell_type": "code",
   "execution_count": 34,
   "id": "77be16cd",
   "metadata": {},
   "outputs": [
    {
     "data": {
      "text/plain": [
       "Income        5.777626\n",
       "LoanAmount    2.607945\n",
       "dtype: float64"
      ]
     },
     "execution_count": 34,
     "metadata": {},
     "output_type": "execute_result"
    }
   ],
   "source": [
    "df[['Income', 'LoanAmount']].skew()"
   ]
  },
  {
   "cell_type": "code",
   "execution_count": 35,
   "id": "2a74274c",
   "metadata": {},
   "outputs": [],
   "source": [
    "from scipy.stats import boxcox\n",
    "df['Income'], a = boxcox(df['Income'])\n",
    "df['LoanAmount'], b = boxcox(df['LoanAmount'])"
   ]
  },
  {
   "cell_type": "code",
   "execution_count": 36,
   "id": "b992ce39",
   "metadata": {},
   "outputs": [
    {
     "data": {
      "text/plain": [
       "Income       -0.027768\n",
       "LoanAmount    0.038289\n",
       "dtype: float64"
      ]
     },
     "execution_count": 36,
     "metadata": {},
     "output_type": "execute_result"
    }
   ],
   "source": [
    "df[['Income','LoanAmount']].skew()"
   ]
  },
  {
   "cell_type": "code",
   "execution_count": 37,
   "id": "a3f8d443",
   "metadata": {},
   "outputs": [
    {
     "data": {
      "text/plain": [
       "<Axes: xlabel='LoanAmount', ylabel='Count'>"
      ]
     },
     "execution_count": 37,
     "metadata": {},
     "output_type": "execute_result"
    },
    {
     "data": {
      "image/png": "[encoded data removed]",
      "text/plain": [
       "<Figure size 640x480 with 1 Axes>"
      ]
     },
     "metadata": {},
     "output_type": "display_data"
    }
   ],
   "source": [
    "sns.histplot(x=df['LoanAmount'],kde=True)"
   ]
  },
  {
   "cell_type": "code",
   "execution_count": 38,
   "id": "72fda16b",
   "metadata": {},
   "outputs": [
    {
     "data": {
      "text/html": [
       "<div>\n",
       "<style scoped>\n",
       "    .dataframe tbody tr th:only-of-type {\n",
       "        vertical-align: middle;\n",
       "    }\n",
       "\n",
       "    .dataframe tbody tr th {\n",
       "        vertical-align: top;\n",
       "    }\n",
       "\n",
       "    .dataframe thead th {\n",
       "        text-align: right;\n",
       "    }\n",
       "</style>\n",
       "<table border=\"1\" class=\"dataframe\">\n",
       "  <thead>\n",
       "    <tr style=\"text-align: right;\">\n",
       "      <th></th>\n",
       "      <th>Gender</th>\n",
       "      <th>Married</th>\n",
       "      <th>Dependents</th>\n",
       "      <th>Education</th>\n",
       "      <th>Self_Employed</th>\n",
       "      <th>ApplicantIncome</th>\n",
       "      <th>CoapplicantIncome</th>\n",
       "      <th>LoanAmount</th>\n",
       "      <th>Loan_Amount_Term</th>\n",
       "      <th>Credit_History</th>\n",
       "      <th>Property_Area</th>\n",
       "      <th>Loan_Status</th>\n",
       "      <th>Income</th>\n",
       "    </tr>\n",
       "  </thead>\n",
       "  <tbody>\n",
       "    <tr>\n",
       "      <th>1</th>\n",
       "      <td>1</td>\n",
       "      <td>1</td>\n",
       "      <td>1</td>\n",
       "      <td>0</td>\n",
       "      <td>0</td>\n",
       "      <td>4583</td>\n",
       "      <td>1508</td>\n",
       "      <td>6.243267</td>\n",
       "      <td>30.0</td>\n",
       "      <td>1</td>\n",
       "      <td>0</td>\n",
       "      <td>0</td>\n",
       "      <td>1.864973</td>\n",
       "    </tr>\n",
       "    <tr>\n",
       "      <th>2</th>\n",
       "      <td>1</td>\n",
       "      <td>1</td>\n",
       "      <td>0</td>\n",
       "      <td>0</td>\n",
       "      <td>1</td>\n",
       "      <td>3000</td>\n",
       "      <td>0</td>\n",
       "      <td>5.202610</td>\n",
       "      <td>30.0</td>\n",
       "      <td>1</td>\n",
       "      <td>2</td>\n",
       "      <td>1</td>\n",
       "      <td>1.856561</td>\n",
       "    </tr>\n",
       "    <tr>\n",
       "      <th>3</th>\n",
       "      <td>1</td>\n",
       "      <td>1</td>\n",
       "      <td>0</td>\n",
       "      <td>1</td>\n",
       "      <td>0</td>\n",
       "      <td>2583</td>\n",
       "      <td>2358</td>\n",
       "      <td>6.138816</td>\n",
       "      <td>30.0</td>\n",
       "      <td>1</td>\n",
       "      <td>2</td>\n",
       "      <td>1</td>\n",
       "      <td>1.862807</td>\n",
       "    </tr>\n",
       "    <tr>\n",
       "      <th>4</th>\n",
       "      <td>1</td>\n",
       "      <td>0</td>\n",
       "      <td>0</td>\n",
       "      <td>0</td>\n",
       "      <td>0</td>\n",
       "      <td>6000</td>\n",
       "      <td>0</td>\n",
       "      <td>6.401083</td>\n",
       "      <td>30.0</td>\n",
       "      <td>1</td>\n",
       "      <td>2</td>\n",
       "      <td>1</td>\n",
       "      <td>1.864825</td>\n",
       "    </tr>\n",
       "    <tr>\n",
       "      <th>5</th>\n",
       "      <td>1</td>\n",
       "      <td>1</td>\n",
       "      <td>2</td>\n",
       "      <td>0</td>\n",
       "      <td>1</td>\n",
       "      <td>5417</td>\n",
       "      <td>4196</td>\n",
       "      <td>7.481930</td>\n",
       "      <td>30.0</td>\n",
       "      <td>1</td>\n",
       "      <td>2</td>\n",
       "      <td>1</td>\n",
       "      <td>1.868937</td>\n",
       "    </tr>\n",
       "  </tbody>\n",
       "</table>\n",
       "</div>"
      ],
      "text/plain": [
       "   Gender  Married  Dependents  Education  Self_Employed  ApplicantIncome  \\\n",
       "1       1        1           1          0              0             4583   \n",
       "2       1        1           0          0              1             3000   \n",
       "3       1        1           0          1              0             2583   \n",
       "4       1        0           0          0              0             6000   \n",
       "5       1        1           2          0              1             5417   \n",
       "\n",
       "   CoapplicantIncome  LoanAmount  Loan_Amount_Term  Credit_History  \\\n",
       "1               1508    6.243267              30.0               1   \n",
       "2                  0    5.202610              30.0               1   \n",
       "3               2358    6.138816              30.0               1   \n",
       "4                  0    6.401083              30.0               1   \n",
       "5               4196    7.481930              30.0               1   \n",
       "\n",
       "   Property_Area  Loan_Status    Income  \n",
       "1              0            0  1.864973  \n",
       "2              2            1  1.856561  \n",
       "3              2            1  1.862807  \n",
       "4              2            1  1.864825  \n",
       "5              2            1  1.868937  "
      ]
     },
     "execution_count": 38,
     "metadata": {},
     "output_type": "execute_result"
    }
   ],
   "source": [
    "df.head()"
   ]
  },
  {
   "cell_type": "markdown",
   "id": "698b2d7f",
   "metadata": {},
   "source": [
    " **Spliting the Data X & y**"
   ]
  },
  {
   "cell_type": "code",
   "execution_count": 39,
   "id": "178f6dde",
   "metadata": {},
   "outputs": [],
   "source": [
    "X = df.drop('Loan_Status',axis=1)\n",
    "y = df['Loan_Status']"
   ]
  },
  {
   "cell_type": "markdown",
   "id": "5e9cdb62",
   "metadata": {},
   "source": [
    "# Modelling"
   ]
  },
  {
   "cell_type": "markdown",
   "id": "7b3ef597",
   "metadata": {},
   "source": [
    "**Finding Random State Number**"
   ]
  },
  {
   "cell_type": "code",
   "execution_count": 40,
   "id": "b757e196",
   "metadata": {
    "scrolled": true
   },
   "outputs": [
    {
     "name": "stdout",
     "output_type": "stream",
     "text": [
      "best_random_state_no._ : 86\n"
     ]
    }
   ],
   "source": [
    "from sklearn.model_selection import train_test_split\n",
    "from sklearn.linear_model import LogisticRegression\n",
    "from sklearn.model_selection import cross_val_score\n",
    "from sklearn.metrics import accuracy_score\n",
    "\n",
    "Train = []\n",
    "Test = []\n",
    "CV = []\n",
    "\n",
    "for i in range(0,101) :\n",
    "    X_train,X_test,y_train,y_test=train_test_split(X,y,test_size=0.2,random_state=i)\n",
    "    m = LogisticRegression()\n",
    "    m.fit(X_train,y_train)\n",
    "    \n",
    "    ypred_train = m.predict(X_train)\n",
    "    ypred_test = m.predict(X_test)\n",
    "        \n",
    "    Train.append(accuracy_score( y_train, ypred_train ))\n",
    "    Test.append(accuracy_score( y_test, ypred_test))\n",
    "    \n",
    "    CV.append(cross_val_score(m,X_train,y_train,cv=5,scoring='accuracy').mean())\n",
    "    \n",
    "em = pd.DataFrame({'Train':Train,'Test':Test,'CV':CV})\n",
    "gm = em[(abs(em['Train']-em['Test']) <= 0.05) & (abs(em['Test']-em['CV']) <= 0.05)]\n",
    "rs = gm[gm['CV'] == gm['CV'].max()].index.to_list()[0]\n",
    "print('best_random_state_no._ :',rs)"
   ]
  },
  {
   "cell_type": "code",
   "execution_count": 51,
   "id": "5dd708ea",
   "metadata": {
    "scrolled": true
   },
   "outputs": [],
   "source": [
    "X_train,X_test,y_train,y_test=train_test_split(X,y,test_size=0.2,random_state=86)"
   ]
  },
  {
   "cell_type": "code",
   "execution_count": 42,
   "id": "9b8455fb",
   "metadata": {},
   "outputs": [
    {
     "name": "stdout",
     "output_type": "stream",
     "text": [
      "Train : 0.8203309692671394\n",
      "CV : 0.8180392156862746\n",
      "Test : 0.8018867924528302\n"
     ]
    }
   ],
   "source": [
    "# Logestic Regression\n",
    "\n",
    "from sklearn.linear_model import LogisticRegression\n",
    "\n",
    "log_r_model = LogisticRegression()\n",
    "log_r_model.fit(X_train,y_train)\n",
    "\n",
    "ypred_train_log_r = log_r_model.predict(X_train)\n",
    "ypred_test_log_r = log_r_model.predict(X_test)\n",
    "\n",
    "print('Train :',accuracy_score( y_train,ypred_train_log_r))\n",
    "print('CV :', cross_val_score(log_r_model,X_train,y_train,cv=5).mean())\n",
    "print('Test :',accuracy_score( y_test,ypred_test_log_r))"
   ]
  },
  {
   "cell_type": "code",
   "execution_count": 43,
   "id": "182490a8",
   "metadata": {},
   "outputs": [
    {
     "name": "stdout",
     "output_type": "stream",
     "text": [
      "train accuracy : 0.6855791962174941\n",
      "CV : 0.6879551820728291\n",
      "test accuracy: 0.6981132075471698\n"
     ]
    }
   ],
   "source": [
    "# KNN\n",
    "\n",
    "from sklearn.neighbors import KNeighborsClassifier\n",
    "estimator = KNeighborsClassifier()\n",
    "param_grid = {'n_neighbors': list(range(1,50))}\n",
    "\n",
    "from sklearn.model_selection import GridSearchCV\n",
    "knn_grid = GridSearchCV(estimator,param_grid,cv=5,scoring='accuracy')\n",
    "knn_grid.fit(X_train,y_train)\n",
    "\n",
    "knn_model = knn_grid.best_estimator_\n",
    "\n",
    "ypred_train_knn = knn_model.predict(X_train)\n",
    "ypred_test_knn = knn_model.predict(X_test)\n",
    "\n",
    "print('train accuracy :', accuracy_score(y_train,ypred_train_knn))\n",
    "print('CV :',cross_val_score(knn_model,X_train,y_train,cv=5).mean())\n",
    "print('test accuracy:', accuracy_score(y_test,ypred_test_knn))"
   ]
  },
  {
   "cell_type": "code",
   "execution_count": 44,
   "id": "a7c19d73",
   "metadata": {},
   "outputs": [],
   "source": [
    "# # Support Vector \n",
    "\n",
    "# from sklearn.svm import SVC\n",
    "\n",
    "# estimator = SVC() \n",
    "# param_grid = {'C':[0.01,1.0,1],'kernel':['linear','sigmoid','poly']}\n",
    "\n",
    "# grid_svm = GridSearchCV(esthimator,param_grid,cv=5,scoring='accuracy')\n",
    "# grid_svm.fit(X_train,y_train)\n",
    "\n",
    "# svm_model = grid_svm.best_estimator_\n",
    "\n",
    "# ypred_train_svm = svm_model.predict(X_train)\n",
    "# ypred_test_svm =  svm_model.predict(X_test)\n",
    "\n",
    "# print('train accuracy :',accuracy_score(y_train,ypred_train_svm))\n",
    "# print('CV :',cross_val_score(svm_model,X_train,y_train,cv=5,scoring='accuracy').mean())\n",
    "# print('test accuracy :', accuracy_score(y_test,ypred_train_svm))"
   ]
  },
  {
   "cell_type": "code",
   "execution_count": 45,
   "id": "e82ea46b",
   "metadata": {},
   "outputs": [
    {
     "name": "stdout",
     "output_type": "stream",
     "text": [
      "Train accuracy : 0.817966903073286\n",
      "CV : 0.8180672268907564\n",
      "Test accuracy : 0.8018867924528302\n"
     ]
    }
   ],
   "source": [
    "# Decision Tree\n",
    "\n",
    "from sklearn.tree import DecisionTreeClassifier\n",
    "\n",
    "estimator = DecisionTreeClassifier(random_state=rs)\n",
    "param_grid = {'criterion':['gini','entropy'],'max_depth':list(range(1,10))}\n",
    "\n",
    "dt_grid = GridSearchCV(estimator,param_grid,cv=5,scoring='accuracy')\n",
    "dt_grid.fit(X_train,y_train)\n",
    "\n",
    "dt = dt_grid.best_estimator_\n",
    "dt_fi = dt.feature_importances_\n",
    "\n",
    "index  = [i for i,x in enumerate(dt_fi) if x > 0]\n",
    "\n",
    "X_train_dt = X_train.iloc[:,index]\n",
    "X_test_dt = X_test.iloc[:,index]\n",
    "\n",
    "dt.fit(X_train_dt,y_train)\n",
    "\n",
    "ypred_train = dt.predict(X_train_dt)\n",
    "ypred_test = dt.predict(X_test_dt)\n",
    "\n",
    "print('Train accuracy :',accuracy_score(y_train , ypred_train))\n",
    "print('CV :',cross_val_score(dt,X_train_dt,y_train,cv = 5,scoring='accuracy').mean())\n",
    "print('Test accuracy :',accuracy_score(y_test,ypred_test))\n",
    "\n",
    "\n",
    "\n"
   ]
  },
  {
   "cell_type": "code",
   "execution_count": 46,
   "id": "eeeea0ca",
   "metadata": {},
   "outputs": [
    {
     "data": {
      "text/html": [
       "<style>#sk-container-id-1 {color: black;}#sk-container-id-1 pre{padding: 0;}#sk-container-id-1 div.sk-toggleable {background-color: white;}#sk-container-id-1 label.sk-toggleable__label {cursor: pointer;display: block;width: 100%;margin-bottom: 0;padding: 0.3em;box-sizing: border-box;text-align: center;}#sk-container-id-1 label.sk-toggleable__label-arrow:before {content: \"▸\";float: left;margin-right: 0.25em;color: #696969;}#sk-container-id-1 label.sk-toggleable__label-arrow:hover:before {color: black;}#sk-container-id-1 div.sk-estimator:hover label.sk-toggleable__label-arrow:before {color: black;}#sk-container-id-1 div.sk-toggleable__content {max-height: 0;max-width: 0;overflow: hidden;text-align: left;background-color: #f0f8ff;}#sk-container-id-1 div.sk-toggleable__content pre {margin: 0.2em;color: black;border-radius: 0.25em;background-color: #f0f8ff;}#sk-container-id-1 input.sk-toggleable__control:checked~div.sk-toggleable__content {max-height: 200px;max-width: 100%;overflow: auto;}#sk-container-id-1 input.sk-toggleable__control:checked~label.sk-toggleable__label-arrow:before {content: \"▾\";}#sk-container-id-1 div.sk-estimator input.sk-toggleable__control:checked~label.sk-toggleable__label {background-color: #d4ebff;}#sk-container-id-1 div.sk-label input.sk-toggleable__control:checked~label.sk-toggleable__label {background-color: #d4ebff;}#sk-container-id-1 input.sk-hidden--visually {border: 0;clip: rect(1px 1px 1px 1px);clip: rect(1px, 1px, 1px, 1px);height: 1px;margin: -1px;overflow: hidden;padding: 0;position: absolute;width: 1px;}#sk-container-id-1 div.sk-estimator {font-family: monospace;background-color: #f0f8ff;border: 1px dotted black;border-radius: 0.25em;box-sizing: border-box;margin-bottom: 0.5em;}#sk-container-id-1 div.sk-estimator:hover {background-color: #d4ebff;}#sk-container-id-1 div.sk-parallel-item::after {content: \"\";width: 100%;border-bottom: 1px solid gray;flex-grow: 1;}#sk-container-id-1 div.sk-label:hover label.sk-toggleable__label {background-color: #d4ebff;}#sk-container-id-1 div.sk-serial::before {content: \"\";position: absolute;border-left: 1px solid gray;box-sizing: border-box;top: 0;bottom: 0;left: 50%;z-index: 0;}#sk-container-id-1 div.sk-serial {display: flex;flex-direction: column;align-items: center;background-color: white;padding-right: 0.2em;padding-left: 0.2em;position: relative;}#sk-container-id-1 div.sk-item {position: relative;z-index: 1;}#sk-container-id-1 div.sk-parallel {display: flex;align-items: stretch;justify-content: center;background-color: white;position: relative;}#sk-container-id-1 div.sk-item::before, #sk-container-id-1 div.sk-parallel-item::before {content: \"\";position: absolute;border-left: 1px solid gray;box-sizing: border-box;top: 0;bottom: 0;left: 50%;z-index: -1;}#sk-container-id-1 div.sk-parallel-item {display: flex;flex-direction: column;z-index: 1;position: relative;background-color: white;}#sk-container-id-1 div.sk-parallel-item:first-child::after {align-self: flex-end;width: 50%;}#sk-container-id-1 div.sk-parallel-item:last-child::after {align-self: flex-start;width: 50%;}#sk-container-id-1 div.sk-parallel-item:only-child::after {width: 0;}#sk-container-id-1 div.sk-dashed-wrapped {border: 1px dashed gray;margin: 0 0.4em 0.5em 0.4em;box-sizing: border-box;padding-bottom: 0.4em;background-color: white;}#sk-container-id-1 div.sk-label label {font-family: monospace;font-weight: bold;display: inline-block;line-height: 1.2em;}#sk-container-id-1 div.sk-label-container {text-align: center;}#sk-container-id-1 div.sk-container {/* jupyter's `normalize.less` sets `[hidden] { display: none; }` but bootstrap.min.css set `[hidden] { display: none !important; }` so we also need the `!important` here to be able to override the default hidden behavior on the sphinx rendered scikit-learn.org. See: https://github.com/scikit-learn/scikit-learn/issues/21755 */display: inline-block !important;position: relative;}#sk-container-id-1 div.sk-text-repr-fallback {display: none;}</style><div id=\"sk-container-id-1\" class=\"sk-top-container\"><div class=\"sk-text-repr-fallback\"><pre>DecisionTreeClassifier(max_depth=1, random_state=86)</pre><b>In a Jupyter environment, please rerun this cell to show the HTML representation or trust the notebook. <br />On GitHub, the HTML representation is unable to render, please try loading this page with nbviewer.org.</b></div><div class=\"sk-container\" hidden><div class=\"sk-item\"><div class=\"sk-estimator sk-toggleable\"><input class=\"sk-toggleable__control sk-hidden--visually\" id=\"sk-estimator-id-1\" type=\"checkbox\" checked><label for=\"sk-estimator-id-1\" class=\"sk-toggleable__label sk-toggleable__label-arrow\">DecisionTreeClassifier</label><div class=\"sk-toggleable__content\"><pre>DecisionTreeClassifier(max_depth=1, random_state=86)</pre></div></div></div></div></div>"
      ],
      "text/plain": [
       "DecisionTreeClassifier(max_depth=1, random_state=86)"
      ]
     },
     "execution_count": 46,
     "metadata": {},
     "output_type": "execute_result"
    }
   ],
   "source": [
    "dt_grid.best_estimator_"
   ]
  },
  {
   "cell_type": "code",
   "execution_count": 47,
   "id": "c225ae3c",
   "metadata": {},
   "outputs": [
    {
     "name": "stdout",
     "output_type": "stream",
     "text": [
      "Train Accuracy : 1.0\n",
      "CV : 0.8085434173669468\n",
      "Test Accuracy : 0.7924528301886793\n"
     ]
    }
   ],
   "source": [
    "# random forest classifier\n",
    "\n",
    "from sklearn.ensemble import RandomForestClassifier \n",
    "\n",
    "estimator = RandomForestClassifier(random_state=rs)\n",
    "param_grid = {'n_estimators':list(range(1,51))}\n",
    "\n",
    "rf_grid = GridSearchCV(estimator,param_grid,cv=5,scoring='accuracy')\n",
    "rf_grid.fit(X_train,y_train)\n",
    "\n",
    "rf = rf_grid.best_estimator_\n",
    "rf_fi = rf.feature_importances_\n",
    "\n",
    "index = [i for i,x in enumerate(rf_fi) if x > 0 ]\n",
    "\n",
    "X_train_rf = X_train.iloc[:,index]\n",
    "X_test_rf = X_test.iloc[:,index]\n",
    "\n",
    "rf.fit(X_train_rf,y_train)\n",
    "\n",
    "ypred_train = rf.predict(X_train_rf)\n",
    "ypred_test = rf.predict(X_test_rf)\n",
    "\n",
    "print('Train Accuracy :',accuracy_score(y_train , ypred_train))\n",
    "print('CV :',cross_val_score(rf,X_train_rf,y_train,cv=5,scoring='accuracy').mean())\n",
    "print('Test Accuracy :',accuracy_score(y_test, ypred_test))\n"
   ]
  },
  {
   "cell_type": "code",
   "execution_count": 48,
   "id": "e5a7f769",
   "metadata": {},
   "outputs": [
    {
     "name": "stdout",
     "output_type": "stream",
     "text": [
      "train accuracy : 0.817966903073286\n",
      "CV : 0.8180672268907564\n",
      "test accuracy : 0.8018867924528302\n"
     ]
    }
   ],
   "source": [
    "# AdaBoost classifier\n",
    "\n",
    "from sklearn.ensemble import AdaBoostClassifier\n",
    "\n",
    "estimator = AdaBoostClassifier(random_state=rs)\n",
    "param_grid = {'n_estimators':list(range(1,51))}\n",
    "\n",
    "ab_grid = GridSearchCV(estimator,param_grid,cv=5,scoring='accuracy')\n",
    "ab_grid.fit(X_train,y_train)\n",
    "\n",
    "ab = ab_grid.best_estimator_\n",
    "ab_fi = ab.feature_importances_\n",
    "\n",
    "index = [i for i,x in enumerate(ab_fi) if x > 0 ]\n",
    "\n",
    "X_train_ab = X_train.iloc[:,index]\n",
    "X_test_ab = X_test.iloc[:,index]\n",
    "\n",
    "ab.fit(X_train_ab,y_train)\n",
    "\n",
    "ypred_train = ab.predict(X_train_ab)\n",
    "ypred_test = ab.predict(X_test_ab)\n",
    "\n",
    "print('train accuracy :',accuracy_score(y_train, ypred_train))\n",
    "print('CV :',cross_val_score(ab,X_train_ab,y_train,cv=5,scoring='accuracy').mean())\n",
    "print('test accuracy :', accuracy_score(y_test, ypred_test))\n"
   ]
  },
  {
   "cell_type": "code",
   "execution_count": 49,
   "id": "91de5583",
   "metadata": {},
   "outputs": [
    {
     "name": "stdout",
     "output_type": "stream",
     "text": [
      "Train Accuracy : 0.8368794326241135\n",
      "CV : 0.8085714285714285\n",
      "Test Accuracy : 0.8018867924528302\n"
     ]
    }
   ],
   "source": [
    "# Gradian Boost Classifier \n",
    "\n",
    "from sklearn.ensemble import GradientBoostingClassifier\n",
    "\n",
    "estimator = GradientBoostingClassifier(random_state=rs)\n",
    "param_grid = {'n_estimators':list(range(1,10)), 'learning_rate':[0.1,0.2,0.3,0.4,0.5,0.6]}\n",
    "\n",
    "gb_grid = GridSearchCV(estimator,param_grid,cv=5,scoring='accuracy')\n",
    "gb_grid.fit(X_train, y_train)\n",
    "\n",
    "gb = gb_grid.best_estimator_\n",
    "gb_fi = gb.feature_importances_\n",
    "\n",
    "index = [i for i,x in enumerate(gb_fi) if x > 0]\n",
    "\n",
    "X_train_gb = X_train.iloc[:,index]\n",
    "X_test_gb = X_test.iloc[:,index]\n",
    "\n",
    "gb.fit(X_train_gb,y_train)\n",
    "\n",
    "ypred_train = gb.predict(X_train_gb)\n",
    "ypred_test = gb.predict(X_test_gb)\n",
    "\n",
    "\n",
    "\n",
    "print('Train Accuracy :',accuracy_score(y_train,ypred_train))\n",
    "print('CV :',cross_val_score(gb,X_train_gb,y_train,cv=5,scoring='accuracy').mean())\n",
    "print('Test Accuracy :',accuracy_score(y_test,ypred_test))\n"
   ]
  },
  {
   "cell_type": "code",
   "execution_count": 59,
   "id": "79312192",
   "metadata": {
    "scrolled": true
   },
   "outputs": [
    {
     "name": "stdout",
     "output_type": "stream",
     "text": [
      "train accuracy : 0.9219858156028369\n",
      "CV : 0.8155742296918767\n",
      "test accuracy : 0.7830188679245284\n"
     ]
    }
   ],
   "source": [
    "# Xetream Gratient Boostinig\n",
    "\n",
    "from xgboost import XGBClassifier\n",
    "\n",
    "estimator = XGBClassifier(random_state=rs)\n",
    "param_grid = {'n_estimators':[10,20,40,100],'max_depth':[3,4,5],'gamma':[0,0.15,0.30,0.45]}\n",
    "\n",
    "xgb_grid = GridSearchCV(estimator,param_grid,cv=5,scoring='accuracy')\n",
    "xgb_grid.fit(X_train,y_train)\n",
    "\n",
    "xgb = xgb_grid.best_estimator_\n",
    "xgb_fi = xgb.feature_importances_\n",
    "             \n",
    "index = [i for i,x in enumerate(xgb_fi) if x>0 ]\n",
    "\n",
    "X_train_xgb = X_train.iloc[:,index]\n",
    "X_test_xgb = X_test.iloc[:,index]\n",
    "\n",
    "xgb.fit(X_train_xgb ,y_train)\n",
    "\n",
    "ypred_train = xgb.predict(X_train_xgb)\n",
    "ypred_test = xgb.predict(X_test_xgb)\n",
    "\n",
    "print('train accuracy :',accuracy_score(y_train,ypred_train))\n",
    "print('CV :', cross_val_score(xgb,X_train_xgb,y_train,cv=5,scoring='accuracy').mean())\n",
    "print('test accuracy :',accuracy_score(y_test,ypred_test))"
   ]
  },
  {
   "cell_type": "code",
   "execution_count": null,
   "id": "496d7d36",
   "metadata": {},
   "outputs": [],
   "source": []
  },
  {
   "cell_type": "code",
   "execution_count": null,
   "id": "a7fac889",
   "metadata": {},
   "outputs": [],
   "source": []
  },
  {
   "cell_type": "code",
   "execution_count": null,
   "id": "69d71b89",
   "metadata": {},
   "outputs": [],
   "source": []
  },
  {
   "cell_type": "code",
   "execution_count": null,
   "id": "ca2e3dbf",
   "metadata": {},
   "outputs": [],
   "source": []
  }
 ],
 "metadata": {
  "kernelspec": {
   "display_name": "Python 3 (ipykernel)",
   "language": "python",
   "name": "python3"
  },
  "language_info": {
   "codemirror_mode": {
    "name": "ipython",
    "version": 3
   },
   "file_extension": ".py",
   "mimetype": "text/x-python",
   "name": "python",
   "nbconvert_exporter": "python",
   "pygments_lexer": "ipython3",
   "version": "3.11.5"
  }
 },
 "nbformat": 4,
 "nbformat_minor": 5
}
